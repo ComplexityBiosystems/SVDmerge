{
 "cells": [
  {
   "cell_type": "code",
   "execution_count": 1,
   "metadata": {
    "collapsed": true
   },
   "outputs": [],
   "source": [
    "import numpy as np\n",
    "import pandas as pd\n",
    "from collections import Counter\n",
    "import itertools"
   ]
  },
  {
   "cell_type": "code",
   "execution_count": 2,
   "metadata": {
    "collapsed": true
   },
   "outputs": [],
   "source": [
    "# download data\n",
    "# tinyurl generated via http://www.genenames.org/cgi-bin/download?col=gd_hgnc_id&col=gd_app_sym&col=gd_app_name&col=gd_prev_sym&col=gd_aliases&col=gd_pub_eg_id&col=gd_pub_ensembl_id&col=gd_pub_refseq_ids&col=md_prot_id&status=Approved&status_opt=2&where=&order_by=gd_hgnc_id&format=tiny&limit=&hgnc_dbtag=on&submit=submit\n",
    "tmp = pd.read_table(\n",
    "    \"http://www.genenames.org/cgi-bin/download?col=gd_hgnc_id;col=gd_app_sym;col=gd_app_name;col=gd_prev_sym;col=gd_aliases;col=gd_pub_eg_id;col=gd_pub_ensembl_id;col=gd_pub_refseq_ids;col=md_prot_id;status=Approved;status_opt=2;where=;order_by=gd_hgnc_id;format=text;limit=;hgnc_dbtag=on;submit=submit\",\n",
    "   dtype=\"unicode\"\n",
    ")"
   ]
  },
  {
   "cell_type": "code",
   "execution_count": 3,
   "metadata": {
    "collapsed": false
   },
   "outputs": [],
   "source": [
    "tmp.columns =[\n",
    "    u'HGNC_ID', u'Symbol', u'Name', u'Previous_Symbols',\n",
    "    u'Synonyms', u'Entrez', u'Ensembl', u'RefSeq',\n",
    "    u'UniProt']"
   ]
  },
  {
   "cell_type": "code",
   "execution_count": 4,
   "metadata": {
    "collapsed": false
   },
   "outputs": [
    {
     "name": "stdout",
     "output_type": "stream",
     "text": [
      "0 HGNC_ID\n",
      "1 Symbol\n",
      "2 Name\n",
      "3 Previous_Symbols\n",
      "4 Synonyms\n",
      "5 Entrez\n",
      "6 Ensembl\n",
      "7 RefSeq\n",
      "8 UniProt\n"
     ]
    }
   ],
   "source": [
    "for i,x in enumerate(tmp.columns):\n",
    "    print i,x\n"
   ]
  },
  {
   "cell_type": "code",
   "execution_count": 5,
   "metadata": {
    "collapsed": false
   },
   "outputs": [],
   "source": [
    "def uniq_mapping(df,col1,col2):\n",
    "    uniqC1 = [k for k,v in Counter(df[col1]).iteritems() if v==1]\n",
    "    uniqC2 = [k for k,v in Counter(df[col2]).iteritems() if v==1]\n",
    "    uniqC1_idx = df.reset_index().set_index(col1).loc[uniqC1][\"index\"].values\n",
    "    uniqC2_idx = df.reset_index().set_index(col2).loc[uniqC2][\"index\"].values\n",
    "    return df.loc[np.intersect1d(uniqC1_idx,uniqC2_idx)]"
   ]
  },
  {
   "cell_type": "code",
   "execution_count": 6,
   "metadata": {
    "collapsed": false
   },
   "outputs": [],
   "source": [
    "for col1,col2 in list(itertools.combinations(tmp.columns[[1,5,6,7,8]].values,2)):\n",
    "    df = tmp[[col1,col2]].dropna()\n",
    "    udf = uniq_mapping(df,col1,col2)\n",
    "    assert udf.shape[0]== np.unique(udf[col1].values).shape[0]\n",
    "    assert udf.shape[0]== np.unique(udf[col2].values).shape[0]\n",
    "    udf.to_pickle(\"%s2%s.p\"%(col1,col2))"
   ]
  },
  {
   "cell_type": "markdown",
   "metadata": {
    "collapsed": false
   },
   "source": [
    "### GeneBank to Entrez via BioMart\n",
    "Table obtained via [online tool](http://www.ensembl.org/biomart)."
   ]
  },
  {
   "cell_type": "code",
   "execution_count": 15,
   "metadata": {
    "collapsed": false
   },
   "outputs": [],
   "source": [
    "tmp = pd.read_table(\"GenBank2Entrez.txt\",dtype=unicode).iloc[:,[2,1]].dropna().drop_duplicates()"
   ]
  },
  {
   "cell_type": "code",
   "execution_count": 17,
   "metadata": {
    "collapsed": false
   },
   "outputs": [],
   "source": [
    "tmp.columns=[\"GeneBank\",\"Entrez\"]"
   ]
  },
  {
   "cell_type": "code",
   "execution_count": 19,
   "metadata": {
    "collapsed": false
   },
   "outputs": [],
   "source": [
    "tmp.to_pickle(\"GeneBank2Entrez.p\")"
   ]
  },
  {
   "cell_type": "code",
   "execution_count": null,
   "metadata": {
    "collapsed": true
   },
   "outputs": [],
   "source": []
  }
 ],
 "metadata": {
  "kernelspec": {
   "display_name": "Python 2",
   "language": "python",
   "name": "python2"
  },
  "language_info": {
   "codemirror_mode": {
    "name": "ipython",
    "version": 2
   },
   "file_extension": ".py",
   "mimetype": "text/x-python",
   "name": "python",
   "nbconvert_exporter": "python",
   "pygments_lexer": "ipython2",
   "version": "2.7.13"
  }
 },
 "nbformat": 4,
 "nbformat_minor": 2
}
